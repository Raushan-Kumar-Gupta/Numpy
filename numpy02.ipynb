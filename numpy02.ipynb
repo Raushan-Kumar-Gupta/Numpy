{
 "cells": [
  {
   "cell_type": "code",
   "execution_count": 4,
   "id": "4034c4fa-c39d-47c9-8207-d4b6cdd1ccf8",
   "metadata": {},
   "outputs": [
    {
     "name": "stdout",
     "output_type": "stream",
     "text": [
      "21.7 ns ± 0.179 ns per loop (mean ± std. dev. of 7 runs, 10,000,000 loops each)\n"
     ]
    }
   ],
   "source": [
    "li=[i**4 for i in range(1,8)]\n",
    "%timeit li"
   ]
  },
  {
   "cell_type": "code",
   "execution_count": 6,
   "id": "0635db14-269b-479e-acfa-baa75ae42272",
   "metadata": {},
   "outputs": [
    {
     "name": "stdout",
     "output_type": "stream",
     "text": [
      "2.7 µs ± 52.5 ns per loop (mean ± std. dev. of 7 runs, 100,000 loops each)\n"
     ]
    }
   ],
   "source": [
    "import numpy as np\n",
    "%timeit np.arange(1,8)**4"
   ]
  },
  {
   "cell_type": "code",
   "execution_count": 10,
   "id": "bbd5a7b6-5c3e-47a1-8efe-b323158b4bd4",
   "metadata": {},
   "outputs": [
    {
     "name": "stdout",
     "output_type": "stream",
     "text": [
      "[[0, 1, 2, 3, 4], [0, 1, 2, 3, 4], [0, 1, 2, 3, 4], [0, 1, 2, 3, 4], [0, 1, 2, 3, 4]]\n",
      "2\n"
     ]
    }
   ],
   "source": [
    "import numpy as np\n",
    "li=[[i for i in range(5)] for j in range(5)]\n",
    "print(li)\n",
    "nli=np.array(li)\n",
    "print(nli.ndim)"
   ]
  },
  {
   "cell_type": "code",
   "execution_count": 14,
   "id": "03513df4-8bff-4b32-9b5a-c556b2a77475",
   "metadata": {},
   "outputs": [
    {
     "name": "stdout",
     "output_type": "stream",
     "text": [
      "[[[0, 1, 2, 3, 4], [0, 1, 2, 3, 4], [0, 1, 2, 3, 4], [0, 1, 2, 3, 4], [0, 1, 2, 3, 4]], [[0, 1, 2, 3, 4], [0, 1, 2, 3, 4], [0, 1, 2, 3, 4], [0, 1, 2, 3, 4], [0, 1, 2, 3, 4]], [[0, 1, 2, 3, 4], [0, 1, 2, 3, 4], [0, 1, 2, 3, 4], [0, 1, 2, 3, 4], [0, 1, 2, 3, 4]], [[0, 1, 2, 3, 4], [0, 1, 2, 3, 4], [0, 1, 2, 3, 4], [0, 1, 2, 3, 4], [0, 1, 2, 3, 4]], [[0, 1, 2, 3, 4], [0, 1, 2, 3, 4], [0, 1, 2, 3, 4], [0, 1, 2, 3, 4], [0, 1, 2, 3, 4]]]\n",
      "dimension= 3\n"
     ]
    }
   ],
   "source": [
    "import numpy as np\n",
    "li=[[[k for k in range(5)] for i in range(5)] for j in range(5)]\n",
    "nli=np.array(li)\n",
    "print(li)\n",
    "print(\"dimension=\",nli.ndim)"
   ]
  },
  {
   "cell_type": "code",
   "execution_count": 18,
   "id": "03dd709b-abed-4666-bbeb-67ee1fb9da73",
   "metadata": {},
   "outputs": [
    {
     "name": "stdout",
     "output_type": "stream",
     "text": [
      "[[[[[[[[[[1 2 3 4]]]]]]]]]]\n",
      "10\n"
     ]
    }
   ],
   "source": [
    "import numpy as np\n",
    "nli=np.array([1,2,3,4],ndmin=10)\n",
    "print(nli)\n",
    "print(nli.ndim)"
   ]
  },
  {
   "cell_type": "code",
   "execution_count": 21,
   "id": "3477724a-eb30-46cd-bb16-613e9a02b4fe",
   "metadata": {},
   "outputs": [
    {
     "name": "stdout",
     "output_type": "stream",
     "text": [
      "[0. 0. 0. 0.]\n",
      "\n",
      "[[0. 0. 0. 0.]\n",
      " [0. 0. 0. 0.]\n",
      " [0. 0. 0. 0.]]\n"
     ]
    }
   ],
   "source": [
    "arr_zero1=np.zeros(4)\n",
    "print(arr_zero1)\n",
    "print()\n",
    "arr_zero2=np.zeros((3,4))\n",
    "print(arr_zero2)"
   ]
  },
  {
   "cell_type": "code",
   "execution_count": 23,
   "id": "25ecf700-7ae1-4404-aa83-870d75f35e7a",
   "metadata": {},
   "outputs": [
    {
     "name": "stdout",
     "output_type": "stream",
     "text": [
      "[1. 1. 1. 1.]\n",
      "\n",
      "[[1. 1. 1. 1.]\n",
      " [1. 1. 1. 1.]\n",
      " [1. 1. 1. 1.]]\n"
     ]
    }
   ],
   "source": [
    "arr_one1=np.ones(4)\n",
    "print(arr_one1)\n",
    "print()\n",
    "arr_one2=np.ones((3,4))\n",
    "print(arr_one2)"
   ]
  },
  {
   "cell_type": "code",
   "execution_count": 30,
   "id": "41d4556f-6c38-40e6-9c73-c995caff5762",
   "metadata": {},
   "outputs": [
    {
     "name": "stdout",
     "output_type": "stream",
     "text": [
      "[1. 1. 1. 1.]\n",
      "\n",
      "[[1. 1. 1. 1.]\n",
      " [1. 1. 1. 1.]\n",
      " [1. 1. 1. 1.]]\n"
     ]
    }
   ],
   "source": [
    "arr_empty1=np.empty(4)\n",
    "print(arr_empty1)\n",
    "print()\n",
    "arr_empty2=np.empty((3,4))\n",
    "print(arr_empty2)"
   ]
  },
  {
   "cell_type": "code",
   "execution_count": 31,
   "id": "58824547-8b6a-455b-ba59-8b6116d97a74",
   "metadata": {},
   "outputs": [
    {
     "name": "stdout",
     "output_type": "stream",
     "text": [
      "[0 1 2 3 4]\n"
     ]
    }
   ],
   "source": [
    "arr_r1=np.arange(5)\n",
    "print(arr_r1)"
   ]
  },
  {
   "cell_type": "code",
   "execution_count": 32,
   "id": "4be0d8e3-c233-4320-ab9d-7c7ba54e546f",
   "metadata": {},
   "outputs": [
    {
     "name": "stdout",
     "output_type": "stream",
     "text": [
      "[[1. 0. 0.]\n",
      " [0. 1. 0.]\n",
      " [0. 0. 1.]]\n"
     ]
    }
   ],
   "source": [
    "arr_dgnl=np.eye(3)\n",
    "print(arr_dgnl)"
   ]
  },
  {
   "cell_type": "code",
   "execution_count": 35,
   "id": "85c46f55-971a-4ec5-a88a-3195c7385c29",
   "metadata": {},
   "outputs": [
    {
     "name": "stdout",
     "output_type": "stream",
     "text": [
      "[ 0.  5. 10. 15. 20.]\n"
     ]
    }
   ],
   "source": [
    "arr_lin=np.linspace(0,20,num=5)\n",
    "print(arr_lin)"
   ]
  },
  {
   "cell_type": "markdown",
   "id": "98556776-1e36-455a-abaa-11e26b77f206",
   "metadata": {},
   "source": [
    "### random"
   ]
  },
  {
   "cell_type": "code",
   "execution_count": 64,
   "id": "fb368098-7f15-4237-bb72-ff8afdf158e6",
   "metadata": {},
   "outputs": [
    {
     "name": "stdout",
     "output_type": "stream",
     "text": [
      "[0.39188655 0.09001285 0.24000006 0.24757609 0.23475607]\n"
     ]
    }
   ],
   "source": [
    "import numpy as np\n",
    "li=np.random.rand(5)\n",
    "print(li)"
   ]
  },
  {
   "cell_type": "code",
   "execution_count": 50,
   "id": "57f65c1c-be6c-4fd9-a8b6-097ab77c5e78",
   "metadata": {},
   "outputs": [
    {
     "name": "stdout",
     "output_type": "stream",
     "text": [
      "[-1.11074667 -0.20790704 -0.60896296 -0.52931566 -0.70598691]\n"
     ]
    }
   ],
   "source": [
    "li=np.random.randn(5)\n",
    "print(li)"
   ]
  },
  {
   "cell_type": "code",
   "execution_count": 79,
   "id": "725a0628-806d-40a4-8683-01ce5cbc9834",
   "metadata": {},
   "outputs": [
    {
     "name": "stdout",
     "output_type": "stream",
     "text": [
      "[0.07061191 0.0851565  0.6409046  0.12570398 0.45914826]\n"
     ]
    }
   ],
   "source": [
    "li=np.random.ranf(5)\n",
    "print(li)"
   ]
  },
  {
   "cell_type": "code",
   "execution_count": 87,
   "id": "a3c109f6-ba88-49a7-817f-38381ada9323",
   "metadata": {},
   "outputs": [
    {
     "name": "stdout",
     "output_type": "stream",
     "text": [
      "[16  5 15 14 19]\n"
     ]
    }
   ],
   "source": [
    "li=np.random.randint(5,20,5)\n",
    "print(li)"
   ]
  }
 ],
 "metadata": {
  "kernelspec": {
   "display_name": "Python 3 (ipykernel)",
   "language": "python",
   "name": "python3"
  },
  "language_info": {
   "codemirror_mode": {
    "name": "ipython",
    "version": 3
   },
   "file_extension": ".py",
   "mimetype": "text/x-python",
   "name": "python",
   "nbconvert_exporter": "python",
   "pygments_lexer": "ipython3",
   "version": "3.12.2"
  }
 },
 "nbformat": 4,
 "nbformat_minor": 5
}
