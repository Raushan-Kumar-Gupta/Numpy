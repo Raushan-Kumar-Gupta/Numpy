{
 "cells": [
  {
   "cell_type": "markdown",
   "id": "917f10df-90cd-4168-b458-9a411aec5675",
   "metadata": {},
   "source": [
    "### Space of list VS numpy"
   ]
  },
  {
   "cell_type": "code",
   "execution_count": 9,
   "id": "d46fd112-0c76-4c70-b589-a87fd7216108",
   "metadata": {},
   "outputs": [
    {
     "name": "stdout",
     "output_type": "stream",
     "text": [
      "[0, 1, 2, 3, 4, 5, 6, 7, 8, 9, 10, 11, 12, 13, 14, 15, 16, 17, 18, 19, 20, 21, 22, 23, 24, 25, 26, 27, 28, 29, 30, 31, 32, 33, 34, 35, 36, 37, 38, 39, 40, 41, 42, 43, 44, 45, 46, 47, 48, 49, 50, 51, 52, 53, 54, 55, 56, 57, 58, 59, 60, 61, 62, 63, 64, 65, 66, 67, 68, 69, 70, 71, 72, 73, 74, 75, 76, 77, 78, 79, 80, 81, 82, 83, 84, 85, 86, 87, 88, 89, 90, 91, 92, 93, 94, 95, 96, 97, 98, 99]\n",
      "[ 0  1  2  3  4  5  6  7  8  9 10 11 12 13 14 15 16 17 18 19 20 21 22 23\n",
      " 24 25 26 27 28 29 30 31 32 33 34 35 36 37 38 39 40 41 42 43 44 45 46 47\n",
      " 48 49 50 51 52 53 54 55 56 57 58 59 60 61 62 63 64 65 66 67 68 69 70 71\n",
      " 72 73 74 75 76 77 78 79 80 81 82 83 84 85 86 87 88 89 90 91 92 93 94 95\n",
      " 96 97 98 99]\n"
     ]
    }
   ],
   "source": [
    "import numpy as np\n",
    "list_arr=[i for i in range(100)]\n",
    "num_arr=np.arange(100)\n",
    "print(list_arr)\n",
    "print(num_arr)\n"
   ]
  },
  {
   "cell_type": "code",
   "execution_count": 7,
   "id": "6ed35d1e-ded6-428e-8dc6-e50bf818de14",
   "metadata": {},
   "outputs": [
    {
     "name": "stdout",
     "output_type": "stream",
     "text": [
      "4\n",
      "400\n"
     ]
    }
   ],
   "source": [
    "#size of one element in numpy array\n",
    "print(num_arr.itemsize)\n",
    "#size of 100 element in numpy array\n",
    "print(num_arr.itemsize * num_arr.size)"
   ]
  },
  {
   "cell_type": "code",
   "execution_count": 14,
   "id": "93a32a04-6f47-43fa-891c-67214ea63116",
   "metadata": {},
   "outputs": [
    {
     "name": "stdout",
     "output_type": "stream",
     "text": [
      "28\n",
      "2800\n"
     ]
    }
   ],
   "source": [
    "import sys\n",
    "#size of one element in list array\n",
    "a=10\n",
    "print(sys.getsizeof(a))\n",
    "#size of 100 element in numpy array\n",
    "print(sys.getsizeof(1) *len(list_arr))"
   ]
  },
  {
   "cell_type": "markdown",
   "id": "41883499-0f03-41f4-b8a9-726704029663",
   "metadata": {},
   "source": [
    "### Time of numpy v/s list"
   ]
  },
  {
   "cell_type": "code",
   "execution_count": 35,
   "id": "adcef3ea-bc9c-4611-b301-29a2c57ee779",
   "metadata": {},
   "outputs": [
    {
     "name": "stdout",
     "output_type": "stream",
     "text": [
      "time_of_list= 12.343883514404297\n",
      "time_of_numpy= 0.6344318389892578\n"
     ]
    }
   ],
   "source": [
    "import time\n",
    "import numpy as np\n",
    "size=100000\n",
    "def addition_list():\n",
    "    t1=time.time()\n",
    "    a=range(size)\n",
    "    b=range(size)\n",
    "    c=[a[i]+b[i] for i in range(size)]\n",
    "    t2=time.time()\n",
    "    return (t2-t1)\n",
    "def addition_numpy():\n",
    "    t1=time.time()\n",
    "    a=np.arange(size)\n",
    "    b=np.arange(size)\n",
    "    c=a+b\n",
    "    t2=time.time()\n",
    "    return (t2-t1)\n",
    "print(\"time_of_list=\",addition_list()*1000)\n",
    "print(\"time_of_numpy=\",addition_numpy()*1000)\n"
   ]
  }
 ],
 "metadata": {
  "kernelspec": {
   "display_name": "Python 3 (ipykernel)",
   "language": "python",
   "name": "python3"
  },
  "language_info": {
   "codemirror_mode": {
    "name": "ipython",
    "version": 3
   },
   "file_extension": ".py",
   "mimetype": "text/x-python",
   "name": "python",
   "nbconvert_exporter": "python",
   "pygments_lexer": "ipython3",
   "version": "3.12.2"
  }
 },
 "nbformat": 4,
 "nbformat_minor": 5
}
